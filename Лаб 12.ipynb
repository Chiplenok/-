{
  "nbformat": 4,
  "nbformat_minor": 0,
  "metadata": {
    "colab": {
      "provenance": []
    },
    "kernelspec": {
      "name": "python3",
      "display_name": "Python 3"
    },
    "language_info": {
      "name": "python"
    }
  },
  "cells": [
    {
      "cell_type": "code",
      "execution_count": null,
      "metadata": {
        "id": "-GI_s_sTsanv"
      },
      "outputs": [],
      "source": [
        "import numpy as np\n",
        "from scipy.optimize import linprog"
      ]
    },
    {
      "cell_type": "code",
      "source": [
        "ROUND_ACCURACY = 6\n",
        "LIN_PROG_METHOD_NAME = \"simplex\""
      ],
      "metadata": {
        "id": "3GPAi_qitI3w"
      },
      "execution_count": null,
      "outputs": []
    },
    {
      "cell_type": "code",
      "source": [
        "def matrix_game(A: np.array):\n",
        "\n",
        "    n, m = np.array(A).shape  # Получим размерности матрицы\n",
        "    p, q = [], []\n",
        "    I = None\n",
        "    max_min = np.max(np.min(A, axis=1))\n",
        "    min_max = np.min(np.max(A, axis=0))\n",
        "\n",
        "    # Если цена игры для обоих игроков одинакова\n",
        "    if max_min == min_max:\n",
        "        p = np.argmax(np.min(A, axis=1))\n",
        "        q = np.argmin(np.max(A, axis=0))\n",
        "        I = min_max\n",
        "        return [p, q, I]\n",
        "\n",
        "    # Сделаем все значения матрицы натуральными числами (прибавим модуль наименьшего числа матрицы +1)\n",
        "    alpha = np.min(A)\n",
        "    if not alpha > 0:\n",
        "        A = A + abs(alpha) + 1\n",
        "\n",
        "    W1, W2 = np.ones(n), np.ones(m)\n",
        "    b_1 = np.ones(m)\n",
        "\n",
        "    b_2 = np.ones(n)\n",
        "    A_T = A.T\n",
        "\n",
        "    u_list = linprog(c=W1, A_ub=A_T * (-1), b_ub=b_1 * (-1), method=LIN_PROG_METHOD_NAME)['x']\n",
        "    v_list = linprog(c=W2 * (-1), A_ub=A, b_ub=b_2, method=LIN_PROG_METHOD_NAME)['x']\n",
        "\n",
        "    I1 = round(1 / np.sum(u_list), ROUND_ACCURACY)\n",
        "    I2 = round(1 / np.sum(v_list), ROUND_ACCURACY)\n",
        "\n",
        "    if I1 == I2:\n",
        "        p = [round(u * I1, ROUND_ACCURACY) for u in u_list]\n",
        "        q = [round(v * I2, ROUND_ACCURACY) for v in v_list]\n",
        "        I = I1 - alpha\n",
        "\n",
        "    return [p, q, I]"
      ],
      "metadata": {
        "id": "CU3ztJ_Isyp4"
      },
      "execution_count": null,
      "outputs": []
    },
    {
      "cell_type": "code",
      "source": [
        "def print_result(p, q, I):\n",
        "    print(\"Оптимальная стратегия первого игрока:\", p)\n",
        "    print(\"Оптимальная стратегия второго игрока:\", q)\n",
        "    print(\"Цена игры I:\", I)"
      ],
      "metadata": {
        "id": "6XoZqVI5s59z"
      },
      "execution_count": null,
      "outputs": []
    },
    {
      "cell_type": "code",
      "source": [
        "matrix = np.array([\n",
        "    [-1, 4, 6, 3],\n",
        "    [-1, 2, -7, 1],\n",
        "    [2, 3, 1, -4]\n",
        "])\n",
        "\n",
        "print_result(*matrix_game(matrix))"
      ],
      "metadata": {
        "colab": {
          "base_uri": "https://localhost:8080/"
        },
        "id": "zu7l65AVtnye",
        "outputId": "f18259c3-9bed-4bf7-ceb8-a0607b75b7f0"
      },
      "execution_count": null,
      "outputs": [
        {
          "output_type": "stream",
          "name": "stdout",
          "text": [
            "Оптимальная стратегия первого игрока: [0.6, 0.0, 0.4]\n",
            "Оптимальная стратегия второго игрока: [0.7, 0.0, 0.0, 0.3]\n",
            "Цена игры I: 15.2\n"
          ]
        }
      ]
    }
  ]
}