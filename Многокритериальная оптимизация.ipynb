{
  "nbformat": 4,
  "nbformat_minor": 0,
  "metadata": {
    "colab": {
      "provenance": []
    },
    "kernelspec": {
      "name": "python3",
      "display_name": "Python 3"
    },
    "language_info": {
      "name": "python"
    }
  },
  "cells": [
    {
      "cell_type": "code",
      "source": [
        "!pip install PuLP"
      ],
      "metadata": {
        "colab": {
          "base_uri": "https://localhost:8080/"
        },
        "id": "1KDlHY5N7JxC",
        "outputId": "abc56330-d248-4ec3-e60d-2b30f08e8c97"
      },
      "execution_count": null,
      "outputs": [
        {
          "output_type": "stream",
          "name": "stdout",
          "text": [
            "Looking in indexes: https://pypi.org/simple, https://us-python.pkg.dev/colab-wheels/public/simple/\n",
            "Requirement already satisfied: PuLP in /usr/local/lib/python3.8/dist-packages (2.7.0)\n"
          ]
        }
      ]
    },
    {
      "cell_type": "code",
      "execution_count": null,
      "metadata": {
        "id": "PcwCUh-h3K36"
      },
      "outputs": [],
      "source": [
        "import numpy as np\n",
        "import copy\n",
        "import pandas as pd\n",
        "\n",
        "from pulp import LpMaximize, LpMinimize, LpProblem, LpStatus, lpSum, LpVariable\n",
        "from pandas.core.internals.array_manager import PandasArray"
      ]
    },
    {
      "cell_type": "markdown",
      "source": [
        "### Исходные данные задачи"
      ],
      "metadata": {
        "id": "YfetMYQP7UdD"
      }
    },
    {
      "cell_type": "markdown",
      "source": [
        "1. Максимизируем прибыль <br> $z_{1} = 8x_{1} + 7x_{2} \\to max$ <br> <br>\n",
        "2. Минимизируем издержки простоя оборудования <br> $z_{2} = -34x_{1} - 24x_{2} + 1248 \\to min $ <br> <br>\n",
        "3. Ограничения:\n",
        "<br>\n",
        "$f(n) =\n",
        "  \\begin{cases}\n",
        "    4x_{1} + 3x_{2} \\leq 144   \\\\\n",
        "    2x_{1} + x_{2} \\leq 64 \\\\\n",
        "    2x_{1} + 3x_{2} \\leq 120 \\\\\n",
        "    x_{1}\\geq0, x_{2}\\geq0\n",
        "  \\end{cases}\n",
        "$\n",
        "<br>\n"
      ],
      "metadata": {
        "id": "h9w5kwTv95aw"
      }
    },
    {
      "cell_type": "code",
      "source": [
        "criterias = pd.DataFrame(np.array([[8, 7], [-34, -24]]), columns=range(2))\n",
        "criterias['direct'] = ['max', 'min']\n",
        "constraints = pd.DataFrame(np.array([[4, 3], [2, 1], [2, 3]]), columns=range(2))\n",
        "bs = [144, 64, 120]\n",
        "add_b = [0,1248]"
      ],
      "metadata": {
        "id": "6phFNQBZ7SMM"
      },
      "execution_count": null,
      "outputs": []
    },
    {
      "cell_type": "markdown",
      "source": [
        "### Метод последовательный уступок"
      ],
      "metadata": {
        "id": "FgRd2vkZ7qAZ"
      }
    },
    {
      "cell_type": "code",
      "source": [
        "def mpu(c_df, a_df, bs, rebate_coef, low, up):\n",
        "    var_xs = LpVariable.dicts('x', c_df.columns.values[:-1], lowBound=low, upBound=up)\n",
        "    is_not_First = False\n",
        "    cur_bF = -1\n",
        "    add_consts_list = []\n",
        "    for i in c_df.index.values: # проходим по всем функциям\n",
        "        # Решаем злп с помощью встроенных функций\n",
        "        direct = LpMaximize if c_df.loc[i, 'direct'] == 'max' else LpMinimize\n",
        "        model = LpProblem(name=f'Main_criteria', sense=direct)\n",
        "        obj = lpSum([c_df.loc[i, x] * var_xs[x] for x in var_xs])\n",
        "        model += lpSum(obj)\n",
        "        if is_not_First:\n",
        "            new_const = [c_df.loc[i - 1, x] * var_xs[x] for x in var_xs]\n",
        "            print(f'Размер уступки = {rebate_coef}')\n",
        "            rebate =  rebate_coef\n",
        "            # Добавляем дополнительное ограничение\n",
        "            if direct == LpMaximize:\n",
        "                add_const = lpSum(new_const) >= cur_bF - rebate\n",
        "                print(add_const)\n",
        "            else:\n",
        "                add_const = lpSum(new_const) <= cur_bF + rebate\n",
        "            add_consts_list.append(add_const)\n",
        "            for c in add_consts_list:\n",
        "                model += c\n",
        "\n",
        "        for j in a_df.index.values:\n",
        "            cur_const = [a_df.loc[j, x] * var_xs[x] for x in var_xs]\n",
        "            model += lpSum(cur_const) <= bs[j]\n",
        "        model.solve()\n",
        "        cur_bF = model.objective.value()\n",
        "        bs.append(cur_bF)\n",
        "        is_not_First = True\n",
        "        print(f'Значение целевой функции = {cur_bF}')\n",
        "        for var in model.variables():\n",
        "            print(f'{var.name}: {var.value()}')\n",
        "        print()\n",
        "\n",
        "    return model.variables(), cur_bF"
      ],
      "metadata": {
        "id": "dFhZ-RaU7tME"
      },
      "execution_count": null,
      "outputs": []
    },
    {
      "cell_type": "code",
      "source": [
        "vs,f = mpu(criterias, constraints, bs, rebate_coef=8, low=0, up=100)"
      ],
      "metadata": {
        "colab": {
          "base_uri": "https://localhost:8080/"
        },
        "id": "Zjy5OQUYDyV4",
        "outputId": "d89a706e-10fc-4822-999d-1bad53cf8b64"
      },
      "execution_count": null,
      "outputs": [
        {
          "output_type": "stream",
          "name": "stdout",
          "text": [
            "Значение целевой функции = 320.0\n",
            "x_0: 12.0\n",
            "x_1: 32.0\n",
            "\n",
            "Размер уступки = 8\n",
            "Значение целевой функции = -1200.0\n",
            "x_0: 24.0\n",
            "x_1: 16.0\n",
            "\n"
          ]
        }
      ]
    },
    {
      "cell_type": "code",
      "source": [
        "fs = []\n",
        "xs = []\n",
        "for var in vs: xs.append(var.varValue)\n",
        "for t in criterias.drop('direct', axis=1).values: print('function with coefs',t,' result ', np.dot(t, xs))"
      ],
      "metadata": {
        "colab": {
          "base_uri": "https://localhost:8080/"
        },
        "id": "_jk9CuzeD2yu",
        "outputId": "58ebd32d-0600-42cf-b47b-4c21a1e9ce7d"
      },
      "execution_count": null,
      "outputs": [
        {
          "output_type": "stream",
          "name": "stdout",
          "text": [
            "function with coefs [8 7]  result  304.0\n",
            "function with coefs [-34 -24]  result  -1200.0\n"
          ]
        }
      ]
    },
    {
      "cell_type": "markdown",
      "source": [
        "### Метод главного критерия"
      ],
      "metadata": {
        "id": "sZB8dVhm7tpj"
      }
    },
    {
      "cell_type": "code",
      "source": [
        "def mgk(c_df, a_df, bs, b_not_main, low=0, up=100, idx_main=0):\n",
        "    f_idx_to_constraint = list(set(range(c_df.shape[0])) - set([idx_main]))\n",
        "    print(f_idx_to_constraint)\n",
        "    var_xs = LpVariable.dicts('x', c_df.columns.values[:-1], lowBound=low, upBound=up)\n",
        "    direct = LpMaximize if c_df.loc[idx_main, 'direct'] == 'max' else LpMinimize\n",
        "    model = LpProblem(name=f'Main_criteria', sense=direct)\n",
        "    obj = lpSum([c_df.loc[idx_main, x] * var_xs[x] for x in var_xs])\n",
        "    model += lpSum(obj)\n",
        "\n",
        "    for i in f_idx_to_constraint:\n",
        "        new_const = [c_df.loc[i, x] * var_xs[x] for x in var_xs]\n",
        "\n",
        "        if c_df.loc[i, 'direct'] == 'max':\n",
        "            model += lpSum(new_const) >= b_not_main[i]\n",
        "        else:\n",
        "            model += lpSum(new_const) <= b_not_main[i]\n",
        "\n",
        "    for j in a_df.index.values:\n",
        "        cur_const = [a_df.loc[j, x] * var_xs[x] for x in var_xs]\n",
        "        model += lpSum(cur_const) <= bs[j]\n",
        "\n",
        "    model.solve()\n",
        "    cur_bF = model.objective.value()\n",
        "\n",
        "    print(f'cur_solve = {cur_bF}')\n",
        "    for var in model.variables():\n",
        "        print(f'{var.name}: {var.value()}')\n",
        "\n",
        "    return model.variables(), cur_bF"
      ],
      "metadata": {
        "id": "EdQseLLK7xsv"
      },
      "execution_count": null,
      "outputs": []
    },
    {
      "cell_type": "code",
      "source": [
        "vs,f = mgk(criterias, constraints, bs, b_not_main={1:1248}, low=10, up=50, idx_main=0)"
      ],
      "metadata": {
        "colab": {
          "base_uri": "https://localhost:8080/"
        },
        "id": "4NHIppbWD70y",
        "outputId": "93b458d5-419c-478c-fd18-407e18f37afb"
      },
      "execution_count": null,
      "outputs": [
        {
          "output_type": "stream",
          "name": "stdout",
          "text": [
            "[1]\n",
            "cur_solve = 320.0\n",
            "x_0: 12.0\n",
            "x_1: 32.0\n"
          ]
        }
      ]
    },
    {
      "cell_type": "code",
      "source": [
        "fs = []\n",
        "xs = []\n",
        "\n",
        "for var in vs: xs.append(var.varValue)\n",
        "for t in criterias.drop('direct', axis=1).values: print('function with coefs', t,' result ', np.dot(t, xs))"
      ],
      "metadata": {
        "colab": {
          "base_uri": "https://localhost:8080/"
        },
        "id": "cQDtL0qDD9rV",
        "outputId": "ea39cf28-17a6-4b69-b5b4-16010f2652a7"
      },
      "execution_count": null,
      "outputs": [
        {
          "output_type": "stream",
          "name": "stdout",
          "text": [
            "function with coefs [8 7]  result  320.0\n",
            "function with coefs [-34 -24]  result  -1176.0\n"
          ]
        }
      ]
    }
  ]
}