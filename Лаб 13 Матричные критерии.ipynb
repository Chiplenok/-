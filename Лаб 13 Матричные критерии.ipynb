{
 "cells": [
  {
   "cell_type": "code",
   "execution_count": 1,
   "metadata": {
    "id": "a5Ttwroh6wjL"
   },
   "outputs": [],
   "source": [
    "import numpy as np"
   ]
  },
  {
   "cell_type": "code",
   "execution_count": 2,
   "metadata": {
    "id": "xeyLv_LZ7rCq"
   },
   "outputs": [],
   "source": [
    "def bayes_criteria(matrix, probs):\n",
    "    criteria_vect = matrix @ probs\n",
    "    return tuple(criteria_vect), np.argmax(criteria_vect)"
   ]
  },
  {
   "cell_type": "code",
   "execution_count": 3,
   "metadata": {
    "id": "82zCO0yU7seg"
   },
   "outputs": [],
   "source": [
    "def laplas_criteria(matrix):\n",
    "    return bayes_criteria(matrix, [1 / matrix.shape[1]] * matrix.shape[1])"
   ]
  },
  {
   "cell_type": "code",
   "execution_count": 4,
   "metadata": {
    "id": "I_BtfrXh7t5O"
   },
   "outputs": [],
   "source": [
    "def vald_criteria(matrix):\n",
    "    criteria_vect = matrix.min(axis=1)\n",
    "    return tuple(criteria_vect), np.argmax(criteria_vect)"
   ]
  },
  {
   "cell_type": "code",
   "execution_count": 5,
   "metadata": {
    "id": "8PluV9tl7v4S"
   },
   "outputs": [],
   "source": [
    "def savage_criteria(matrix):\n",
    "    criteria_vect = (matrix.max(axis=0) - matrix).max(axis=1)\n",
    "    return tuple(criteria_vect), np.argmin(criteria_vect)"
   ]
  },
  {
   "cell_type": "code",
   "execution_count": 6,
   "metadata": {
    "id": "nAR1rclx7waW"
   },
   "outputs": [],
   "source": [
    "def hurwitz_criteria(matrix, hurwitz_const):\n",
    "    criteria_vect = hurwitz_const * matrix.min(axis=1) + (1 - hurwitz_const) * matrix.max(axis=1)\n",
    "    return tuple(criteria_vect), np.argmax(criteria_vect)"
   ]
  },
  {
   "cell_type": "code",
   "execution_count": 7,
   "metadata": {
    "id": "EqwRZHyC7yVx"
   },
   "outputs": [],
   "source": [
    "def matrix_criteria(matrix, probs, hurwitz_const):\n",
    "    criteria_decisions = {}\n",
    "    criteria_decisions['bayes'] = bayes_criteria(matrix, probs)\n",
    "    criteria_decisions['laplas'] = laplas_criteria(matrix)\n",
    "    criteria_decisions['vald'] = vald_criteria(matrix)\n",
    "    criteria_decisions['savage'] = savage_criteria(matrix)\n",
    "    criteria_decisions['hurwitz'] = hurwitz_criteria(matrix, hurwitz_const)\n",
    "    return criteria_decisions"
   ]
  },
  {
   "cell_type": "code",
   "execution_count": 12,
   "metadata": {
    "id": "RQ7k6ikj7zoP"
   },
   "outputs": [],
   "source": [
    "matrix = np.array([\n",
    "  [12, 7, 20, 27.5],\n",
    "  [50, 67, 11.5, 25],\n",
    "  [23.5, 12, 43, 58.5]\n",
    "])\n",
    "\n",
    "probs = np.array([0.3, 0.25, 0.4, 0.05])\n",
    "hurwitz_const = 0.5"
   ]
  },
  {
   "cell_type": "code",
   "execution_count": 13,
   "metadata": {
    "colab": {
     "base_uri": "https://localhost:8080/"
    },
    "id": "T68cxTiR73Dp",
    "outputId": "4595ec86-db67-4422-efb1-5ecff35cdd69"
   },
   "outputs": [
    {
     "data": {
      "text/plain": [
       "{'bayes': ((14.725, 37.6, 30.175), 1),\n",
       " 'laplas': ((16.625, 38.375, 34.25), 1),\n",
       " 'vald': ((7.0, 11.5, 12.0), 2),\n",
       " 'savage': ((60.0, 33.5, 55.0), 1),\n",
       " 'hurwitz': ((17.25, 39.25, 35.25), 1)}"
      ]
     },
     "execution_count": 13,
     "metadata": {},
     "output_type": "execute_result"
    }
   ],
   "source": [
    "matrix_criteria(matrix, probs, hurwitz_const)"
   ]
  },
  {
   "cell_type": "code",
   "execution_count": null,
   "metadata": {},
   "outputs": [],
   "source": []
  }
 ],
 "metadata": {
  "colab": {
   "provenance": []
  },
  "kernelspec": {
   "display_name": "Python 3 (ipykernel)",
   "language": "python",
   "name": "python3"
  },
  "language_info": {
   "codemirror_mode": {
    "name": "ipython",
    "version": 3
   },
   "file_extension": ".py",
   "mimetype": "text/x-python",
   "name": "python",
   "nbconvert_exporter": "python",
   "pygments_lexer": "ipython3",
   "version": "3.9.13"
  }
 },
 "nbformat": 4,
 "nbformat_minor": 1
}
